{
 "cells": [
  {
   "cell_type": "code",
   "execution_count": 1,
   "id": "619a55eb",
   "metadata": {
    "ExecuteTime": {
     "end_time": "2024-05-30T16:50:08.788777Z",
     "start_time": "2024-05-30T16:50:08.277310Z"
    }
   },
   "outputs": [],
   "source": [
    "import numpy as np\n",
    "from scipy.linalg import expm\n",
    "import pandas as pd\n",
    "from scipy.sparse import diags\n",
    "\n",
    "import matplotlib.pyplot as plt\n",
    "import matplotlib as mpl\n",
    "\n",
    "# Set the font to Times New Roman for the whole plot\n",
    "mpl.rcParams['font.family'] = 'serif'\n",
    "mpl.rcParams['font.serif'] = 'Times New Roman'"
   ]
  },
  {
   "cell_type": "markdown",
   "id": "20fa3d9e",
   "metadata": {},
   "source": [
    "## Functions"
   ]
  },
  {
   "cell_type": "code",
   "execution_count": 2,
   "id": "4e98bfe5",
   "metadata": {
    "ExecuteTime": {
     "end_time": "2024-05-30T16:50:09.425314Z",
     "start_time": "2024-05-30T16:50:09.416414Z"
    }
   },
   "outputs": [],
   "source": [
    "# Optimal controls verification\n",
    "def optimal_controls(t,T,\n",
    "                     N_1,zeta,\n",
    "                     lambda_a,lambda_b,alpha1,phi1,kappa1,\n",
    "                     Y_1,hat_y1,m2_1,y,\n",
    "                     delta_a_2,delta_b_2):\n",
    "    \n",
    "    K=k_matrix(N_1, lambda_a, lambda_b, phi1, kappa1, Y_1, hat_y1, delta_a_2, delta_b_2)\n",
    "    w=W_t_function(alpha1, kappa1, zeta, Y_1, hat_y1, K, t)\n",
    "    \n",
    "    \n",
    "    h1_1st=h1_function(zeta,kappa1,w,y,Y_1);\n",
    "    h1_2nd=h1_function(zeta,kappa1,w,y+zeta,Y_1);\n",
    "    h1_3rd=h1_function(zeta,kappa1,w,y-zeta,Y_1);\n",
    "    z= m2_1/(y**2);\n",
    "    delta_b_star = (1 / (2 * kappa1)) + (h1_1st - h1_2nd) / zeta\n",
    "    delta_a_star = (1 / (2 * kappa1)) + (h1_1st - h1_3rd) / zeta\n",
    "    return delta_b_star, delta_a_star"
   ]
  },
  {
   "cell_type": "code",
   "execution_count": 3,
   "id": "7415be6a",
   "metadata": {
    "ExecuteTime": {
     "end_time": "2024-05-30T16:50:09.876817Z",
     "start_time": "2024-05-30T16:50:09.872385Z"
    }
   },
   "outputs": [],
   "source": [
    "#level functions and derivative\n",
    "def lvlfct(m_2, y):\n",
    "    return m_2/y;\n",
    "\n",
    "def lvlfct_deriv(m_2,y):\n",
    "    return -m_2/y**2"
   ]
  },
  {
   "cell_type": "code",
   "execution_count": 4,
   "id": "0f93da21",
   "metadata": {
    "ExecuteTime": {
     "end_time": "2024-05-30T16:50:10.266652Z",
     "start_time": "2024-05-30T16:50:10.258390Z"
    }
   },
   "outputs": [],
   "source": [
    "# h1 and H1\n",
    "def h1_function(zeta, kappa, w, y, Y_1):\n",
    "    # Find entries in w where Y_1 matches y\n",
    "    w=np.sqrt(w)\n",
    "    matched_w = w[Y_1 == y]\n",
    "    # Check if the matched_w array is empty\n",
    "    if matched_w.size == 0:\n",
    "        return np.nan  # Return np.nan if y is not found in Y_1\n",
    "    else:\n",
    "        # Calculate h1 if there is at least one match\n",
    "        h1 = (zeta / kappa) * np.log(matched_w.item())  # Assuming only one match; use matched_w[0] if multiple matches are handled differently\n",
    "        return h1\n",
    "    \n",
    "def H1_function(x,y,z,h1):\n",
    "    H1=x+y*z+h1\n",
    "    return H1"
   ]
  },
  {
   "cell_type": "code",
   "execution_count": 5,
   "id": "bb24002a",
   "metadata": {
    "ExecuteTime": {
     "end_time": "2024-05-30T16:50:10.756814Z",
     "start_time": "2024-05-30T16:50:10.752841Z"
    }
   },
   "outputs": [],
   "source": [
    "#W_t\n",
    "def W_t_function(alpha1, kappa1, zeta, Y_1, hat_y1, K, t):\n",
    "    exponent_values = -alpha1 * kappa1 / zeta * (Y_1 - hat_y1)**2\n",
    "    W0 = (np.exp(exponent_values)) **2\n",
    "    W_t = expm(K * (T-t)).dot(W0)\n",
    "    return W_t"
   ]
  },
  {
   "cell_type": "code",
   "execution_count": 6,
   "id": "b20d359c",
   "metadata": {
    "ExecuteTime": {
     "end_time": "2024-05-30T16:50:10.943088Z",
     "start_time": "2024-05-30T16:50:10.936594Z"
    }
   },
   "outputs": [],
   "source": [
    "def k_matrix(N_1, lambda_a, lambda_b, phi1, kappa1, Y_1, hat_y1, delta_a_2, delta_b_2):\n",
    "    # The main diagonal values\n",
    "    main_diag = -2 * kappa1 * phi1 * (Y_1 - hat_y1)**2 / zeta\n",
    "\n",
    "    # Subdiagonal and superdiagonal values\n",
    "    sub_diag = lambda_a * np.exp(kappa1 * delta_a_2 - 1) * np.ones(N_1)  \n",
    "    super_diag = lambda_b * np.exp(kappa1 * delta_b_2 - 1) * np.ones(N_1)\n",
    "\n",
    "    # Create the tridiagonal sparse matrix\n",
    "    diagonals = [sub_diag, main_diag, super_diag]\n",
    "    K = diags(diagonals, offsets=[-1, 0, 1], shape=(N_1+1, N_1+1), format='csr')\n",
    "    \n",
    "    return K.todense()"
   ]
  },
  {
   "cell_type": "markdown",
   "id": "cce5c45d",
   "metadata": {},
   "source": [
    "## Parameters and initial assumptions"
   ]
  },
  {
   "cell_type": "code",
   "execution_count": 7,
   "id": "1a8d65c9",
   "metadata": {
    "ExecuteTime": {
     "end_time": "2024-05-30T16:50:11.498628Z",
     "start_time": "2024-05-30T16:50:11.495584Z"
    }
   },
   "outputs": [],
   "source": [
    "# AMM settings and Perfparameters\n",
    "zeta = 1\n",
    "T = 30 #seconds\n",
    "lambda_a = 1\n",
    "lambda_b = 1"
   ]
  },
  {
   "cell_type": "code",
   "execution_count": 8,
   "id": "3f15123f",
   "metadata": {
    "ExecuteTime": {
     "end_time": "2024-05-30T16:50:11.903414Z",
     "start_time": "2024-05-30T16:50:11.898351Z"
    }
   },
   "outputs": [],
   "source": [
    "# LP1 reserves and settings\n",
    "x0_1=1; #60kUSDC\n",
    "y0_1=1; #20ETH\n",
    "z0_1=x0_1/y0_1; #initial marginal rate\n",
    "m2_1=x0_1*y0_1;\n",
    "\n",
    "y_min_1 = -3;\n",
    "y_max_1 = 3;\n",
    "N_1=int((y_max_1-y_min_1)/zeta)\n",
    "Y_1 = np.linspace(y_max_1, y_min_1, N_1+1)\n",
    "Z_1 = m2_1 / (Y_1 ** 2 + 1e-10)  # Adding a small constant to avoid division by zero\n",
    "\n",
    "phi1 = 10**(-5) # No inventory penalty\n",
    "alpha1 = 0.001 # No terminal penalty\n",
    "kappa1= 10\n",
    "hat_y1 = 2 #objective y"
   ]
  },
  {
   "cell_type": "code",
   "execution_count": 9,
   "id": "7c757db3",
   "metadata": {
    "ExecuteTime": {
     "end_time": "2024-05-30T16:50:12.262586Z",
     "start_time": "2024-05-30T16:50:12.258144Z"
    }
   },
   "outputs": [],
   "source": [
    "# LP2 reserves and settings\n",
    "delta_a_2=0.0001;\n",
    "delta_b_2=0.0001;"
   ]
  },
  {
   "cell_type": "markdown",
   "id": "a25204d2",
   "metadata": {
    "ExecuteTime": {
     "end_time": "2024-05-22T12:25:14.944004Z",
     "start_time": "2024-05-22T12:25:14.940835Z"
    }
   },
   "source": [
    "## Proposition 1"
   ]
  },
  {
   "cell_type": "markdown",
   "id": "b2141d5a",
   "metadata": {},
   "source": [
    "### Testing"
   ]
  },
  {
   "cell_type": "code",
   "execution_count": 10,
   "id": "3e12b99e",
   "metadata": {
    "ExecuteTime": {
     "end_time": "2024-05-30T16:50:13.456075Z",
     "start_time": "2024-05-30T16:50:13.437945Z"
    }
   },
   "outputs": [
    {
     "name": "stdout",
     "output_type": "stream",
     "text": [
      "Optimal delta_b_star: 0.06317024632170883\n",
      "Optimal delta_a_star: 0.0463302504670637\n"
     ]
    }
   ],
   "source": [
    "t=1\n",
    "delta_b_star, delta_a_star = optimal_controls(t,T,\n",
    "                     N_1,zeta,\n",
    "                     lambda_a,lambda_b,alpha1,phi1,kappa1,\n",
    "                     Y_1,hat_y1,m2_1,y0_1,\n",
    "                     delta_a_2,delta_b_2)\n",
    "print(f\"Optimal delta_b_star: {delta_b_star}\")\n",
    "print(f\"Optimal delta_a_star: {delta_a_star}\")"
   ]
  },
  {
   "cell_type": "code",
   "execution_count": 11,
   "id": "d6eb6eec",
   "metadata": {
    "ExecuteTime": {
     "end_time": "2024-05-30T16:50:13.929749Z",
     "start_time": "2024-05-30T16:50:13.924926Z"
    }
   },
   "outputs": [],
   "source": [
    "K=k_matrix(N_1, lambda_a, lambda_b, phi1, kappa1, Y_1, hat_y1, delta_a_2, delta_b_2)"
   ]
  },
  {
   "cell_type": "code",
   "execution_count": 12,
   "id": "9fa08dbc",
   "metadata": {
    "ExecuteTime": {
     "end_time": "2024-05-30T16:50:14.321345Z",
     "start_time": "2024-05-30T16:50:14.316308Z"
    }
   },
   "outputs": [
    {
     "data": {
      "text/plain": [
       "array([1.53971688e+08, 2.83917069e+08, 3.69476490e+08, 3.97614166e+08,\n",
       "       3.64781635e+08, 2.77165914e+08, 1.49083153e+08])"
      ]
     },
     "execution_count": 12,
     "metadata": {},
     "output_type": "execute_result"
    }
   ],
   "source": [
    "w=W_t_function(alpha1, kappa1, zeta, Y_1, hat_y1, K, t);\n",
    "w"
   ]
  },
  {
   "cell_type": "code",
   "execution_count": 13,
   "id": "12de841d",
   "metadata": {
    "ExecuteTime": {
     "end_time": "2024-05-30T16:50:14.736286Z",
     "start_time": "2024-05-30T16:50:14.732335Z"
    }
   },
   "outputs": [
    {
     "data": {
      "text/plain": [
       "1.0"
      ]
     },
     "execution_count": 13,
     "metadata": {},
     "output_type": "execute_result"
    }
   ],
   "source": [
    "z= m2_1/(y0_1**2);\n",
    "z"
   ]
  },
  {
   "cell_type": "code",
   "execution_count": 14,
   "id": "bf492720",
   "metadata": {
    "ExecuteTime": {
     "end_time": "2024-05-30T16:50:15.088817Z",
     "start_time": "2024-05-30T16:50:15.084513Z"
    }
   },
   "outputs": [
    {
     "name": "stdout",
     "output_type": "stream",
     "text": [
      "0.9863798835247007\n"
     ]
    }
   ],
   "source": [
    "h1_1st=h1_function(zeta,kappa1,w,y0_1,Y_1);\n",
    "print(h1_1st)"
   ]
  },
  {
   "cell_type": "code",
   "execution_count": 15,
   "id": "66bc74b5",
   "metadata": {
    "ExecuteTime": {
     "end_time": "2024-05-30T16:50:15.451286Z",
     "start_time": "2024-05-30T16:50:15.447067Z"
    }
   },
   "outputs": [
    {
     "name": "stdout",
     "output_type": "stream",
     "text": [
      "0.9732096372029919\n"
     ]
    }
   ],
   "source": [
    "h1_2nd=h1_function(zeta,kappa1,w,y0_1+zeta,Y_1);\n",
    "print(h1_2nd)"
   ]
  },
  {
   "cell_type": "code",
   "execution_count": 16,
   "id": "0b13c9d6",
   "metadata": {
    "ExecuteTime": {
     "end_time": "2024-05-30T16:50:15.869900Z",
     "start_time": "2024-05-30T16:50:15.865816Z"
    }
   },
   "outputs": [
    {
     "name": "stdout",
     "output_type": "stream",
     "text": [
      "0.990049633057637\n"
     ]
    }
   ],
   "source": [
    "h1_3rd=h1_function(zeta,kappa1,w,y0_1-zeta,Y_1);\n",
    "print(h1_3rd)"
   ]
  },
  {
   "cell_type": "code",
   "execution_count": 17,
   "id": "9c9f0a04",
   "metadata": {
    "ExecuteTime": {
     "end_time": "2024-05-30T16:50:16.240267Z",
     "start_time": "2024-05-30T16:50:16.234567Z"
    }
   },
   "outputs": [
    {
     "data": {
      "text/plain": [
       "0.06317024632170883"
      ]
     },
     "execution_count": 17,
     "metadata": {},
     "output_type": "execute_result"
    }
   ],
   "source": [
    "delta_b_star = (1 / (2 * kappa1)) + (h1_1st - h1_2nd) / zeta\n",
    "delta_b_star"
   ]
  },
  {
   "cell_type": "code",
   "execution_count": 18,
   "id": "37e7d44a",
   "metadata": {
    "ExecuteTime": {
     "end_time": "2024-05-30T16:50:16.624748Z",
     "start_time": "2024-05-30T16:50:16.618529Z"
    }
   },
   "outputs": [
    {
     "data": {
      "text/plain": [
       "0.0463302504670637"
      ]
     },
     "execution_count": 18,
     "metadata": {},
     "output_type": "execute_result"
    }
   ],
   "source": [
    "delta_a_star = (1 / (2 * kappa1)) + (h1_1st - h1_3rd) / zeta\n",
    "delta_a_star"
   ]
  },
  {
   "cell_type": "markdown",
   "id": "b34b4677",
   "metadata": {},
   "source": [
    "### Simulations"
   ]
  },
  {
   "cell_type": "markdown",
   "id": "1ab1c4ab",
   "metadata": {},
   "source": [
    "### Simulating for non-competitive LP2: S=Z, different y values with Z constant, y_hat=0\n",
    "We will compare how the depth of an LP would vary as he is far away from his objective"
   ]
  },
  {
   "cell_type": "code",
   "execution_count": 62,
   "id": "ffbdddd7",
   "metadata": {
    "ExecuteTime": {
     "end_time": "2024-05-30T17:06:13.149517Z",
     "start_time": "2024-05-30T17:06:12.963938Z"
    }
   },
   "outputs": [
    {
     "name": "stderr",
     "output_type": "stream",
     "text": [
      "/var/folders/xb/48h8lf4d3h70nx9v468g5yj40000gn/T/ipykernel_21704/488826461.py:16: RuntimeWarning: invalid value encountered in scalar subtract\n",
      "  delta_b_star = (1 / (2 * kappa1)) + (h1_1st - h1_2nd) / zeta\n",
      "/var/folders/xb/48h8lf4d3h70nx9v468g5yj40000gn/T/ipykernel_21704/488826461.py:17: RuntimeWarning: invalid value encountered in scalar subtract\n",
      "  delta_a_star = (1 / (2 * kappa1)) + (h1_1st - h1_3rd) / zeta\n"
     ]
    }
   ],
   "source": [
    "y_min_1 = -3;\n",
    "y_max_1 = 3;\n",
    "N_1=int((y_max_1-y_min_1)/zeta)\n",
    "Y_1 = np.linspace(y_max_1, y_min_1, N_1+1)\n",
    "\n",
    "phi1 = 10**(-2) # No inventory penalty\n",
    "alpha1 = 0.001 # No terminal penalty\n",
    "kappa1= 10\n",
    "hat_y1 = 0 #objective y\n",
    "\n",
    "delta_a_2=0.5;\n",
    "delta_b_2=0.5;\n",
    "\n",
    "time_steps = 100  # Number of time steps to evaluate\n",
    "t_grid = np.linspace(0, T, time_steps)\n",
    "y_test_range=[-3,-2,-1,1,2,3]\n",
    "# Storing results for each time point (x-coordinate) and y (y-coordinate)\n",
    "delta_b_star_1 = np.zeros((len(y_test_range),len(t_grid)))\n",
    "delta_a_star_1 = np.zeros((len(y_test_range),len(t_grid)))\n",
    "# Compute W(t) for each time point\n",
    "for i,y_test in enumerate(y_test_range):\n",
    "    for j, t in enumerate(t_grid):\n",
    "        x_test=y_test\n",
    "        z_test=x_test/y_test\n",
    "        m2_1=x_test*y_test;\n",
    "        z_2_test=z_test\n",
    "        S=z_test\n",
    "        \n",
    "        delta_b_star_1[i,j], delta_a_star_1[i,j] = optimal_controls(t,T,\n",
    "                     N_1,zeta,\n",
    "                     lambda_a,lambda_b,alpha1,phi1,kappa1,\n",
    "                     Y_1,hat_y1,m2_1,y_test,\n",
    "                     delta_a_2,delta_b_2)"
   ]
  },
  {
   "cell_type": "code",
   "execution_count": 63,
   "id": "e05bb316",
   "metadata": {
    "ExecuteTime": {
     "end_time": "2024-05-30T17:06:13.425907Z",
     "start_time": "2024-05-30T17:06:13.300098Z"
    }
   },
   "outputs": [],
   "source": [
    "y_min_1 = -3;\n",
    "y_max_1 = 3;\n",
    "N_1=int((y_max_1-y_min_1)/zeta)\n",
    "Y_1 = np.linspace(y_max_1, y_min_1, N_1+1)\n",
    "\n",
    "phi11 = np.linspace(10**(-1),10**(-2)) # No inventory penalty\n",
    "alpha1 = 0.001 # No terminal penalty\n",
    "kappa1= 10\n",
    "hat_y1 = 0 #objective y\n",
    "\n",
    "delta_a_2=0.5;\n",
    "delta_b_2=0.5;\n",
    "\n",
    "time_steps = 100  # Number of time steps to evaluate\n",
    "t_grid = np.linspace(0, T, time_steps)\n",
    "t=t_grid[80]\n",
    "y_test_range=[-3,-2,-1,1,2,3]\n",
    "# Storing results for each time point (x-coordinate) and y (y-coordinate)\n",
    "delta_b_star_2 = np.zeros((len(y_test_range),len(phi11)))\n",
    "delta_a_star_2 = np.zeros((len(y_test_range),len(phi11)))\n",
    "# Compute W(t) for each time point\n",
    "for i,y_test in enumerate(y_test_range):\n",
    "    for j, phi in enumerate(phi11):\n",
    "        x_test=y_test\n",
    "        z_test=x_test/y_test\n",
    "        m2_1=x_test*y_test;\n",
    "        z_2_test=z_test\n",
    "        S=z_test\n",
    "        \n",
    "        delta_b_star_2[i,j], delta_a_star_2[i,j] = optimal_controls(t,T,\n",
    "                     N_1,zeta,\n",
    "                     lambda_a,lambda_b,alpha1,phi,kappa1,\n",
    "                     Y_1,hat_y1,m2_1,y_test,\n",
    "                     delta_a_2,delta_b_2)"
   ]
  },
  {
   "cell_type": "code",
   "execution_count": 64,
   "id": "c3774da7",
   "metadata": {
    "ExecuteTime": {
     "end_time": "2024-05-30T17:06:13.859855Z",
     "start_time": "2024-05-30T17:06:13.780188Z"
    }
   },
   "outputs": [],
   "source": [
    "y_min_1 = -3;\n",
    "y_max_1 = 3;\n",
    "N_1=int((y_max_1-y_min_1)/zeta)\n",
    "Y_1 = np.linspace(y_max_1, y_min_1, N_1+1)\n",
    "\n",
    "phi1 = 10**(-2) # No inventory penalty\n",
    "alpha11 = np.linspace(10**(-1),10**(-3)) # No terminal penalty\n",
    "kappa1= 10\n",
    "hat_y1 = 0 #objective y\n",
    "\n",
    "delta_a_2=0.5;\n",
    "delta_b_2=0.5;\n",
    "\n",
    "time_steps = 100  # Number of time steps to evaluate\n",
    "t_grid = np.linspace(0, T, time_steps)\n",
    "t=t_grid[-10]\n",
    "y_test_range=[-3,-2,-1,1,2,3]\n",
    "# Storing results for each time point (x-coordinate) and y (y-coordinate)\n",
    "delta_b_star_3 = np.zeros((len(y_test_range),len(alpha11)))\n",
    "delta_a_star_3 = np.zeros((len(y_test_range),len(alpha11)))\n",
    "# Compute W(t) for each time point\n",
    "for i,y_test in enumerate(y_test_range):\n",
    "    for j, alpha in enumerate(alpha11):\n",
    "        x_test=y_test\n",
    "        z_test=x_test/y_test\n",
    "        m2_1=x_test*y_test;\n",
    "        z_2_test=z_test\n",
    "        S=z_test\n",
    "        \n",
    "        delta_b_star_3[i,j], delta_a_star_3[i,j] = optimal_controls(t,T,\n",
    "                     N_1,zeta,\n",
    "                     lambda_a,lambda_b,alpha,phi1,kappa1,\n",
    "                     Y_1,hat_y1,m2_1,y_test,\n",
    "                     delta_a_2,delta_b_2)"
   ]
  },
  {
   "cell_type": "code",
   "execution_count": 65,
   "id": "72affa8d",
   "metadata": {
    "ExecuteTime": {
     "end_time": "2024-05-30T17:06:14.288592Z",
     "start_time": "2024-05-30T17:06:14.197127Z"
    }
   },
   "outputs": [
    {
     "name": "stderr",
     "output_type": "stream",
     "text": [
      "/var/folders/xb/48h8lf4d3h70nx9v468g5yj40000gn/T/ipykernel_21704/488826461.py:16: RuntimeWarning: invalid value encountered in scalar subtract\n",
      "  delta_b_star = (1 / (2 * kappa1)) + (h1_1st - h1_2nd) / zeta\n",
      "/var/folders/xb/48h8lf4d3h70nx9v468g5yj40000gn/T/ipykernel_21704/488826461.py:17: RuntimeWarning: invalid value encountered in scalar subtract\n",
      "  delta_a_star = (1 / (2 * kappa1)) + (h1_1st - h1_3rd) / zeta\n"
     ]
    }
   ],
   "source": [
    "y_min_1 = -3;\n",
    "y_max_1 = 3;\n",
    "N_1=int((y_max_1-y_min_1)/zeta)\n",
    "Y_1 = np.linspace(y_max_1, y_min_1, N_1+1)\n",
    "\n",
    "phi1 = 10**(-2) # No inventory penalty\n",
    "alpha1 = 10**(-3) # No terminal penalty\n",
    "kappa11= np.linspace(1,30)\n",
    "hat_y1 = 0 #objective y\n",
    "\n",
    "delta_a_2=0.5;\n",
    "delta_b_2=0.5;\n",
    "\n",
    "time_steps = 100  # Number of time steps to evaluate\n",
    "t_grid = np.linspace(0, T, time_steps)\n",
    "t=t_grid[10]\n",
    "y_test_range=[-3,-2,-1,1,2,3]\n",
    "# Storing results for each time point (x-coordinate) and y (y-coordinate)\n",
    "delta_b_star_4 = np.zeros((len(y_test_range),len(kappa11)))\n",
    "delta_a_star_4 = np.zeros((len(y_test_range),len(kappa11)))\n",
    "# Compute W(t) for each time point\n",
    "for i,y_test in enumerate(y_test_range):\n",
    "    for j, kappa in enumerate(kappa11):\n",
    "        x_test=y_test\n",
    "        z_test=x_test/y_test\n",
    "        m2_1=x_test*y_test;\n",
    "        z_2_test=z_test\n",
    "        S=z_test\n",
    "        \n",
    "        delta_b_star_4[i,j], delta_a_star_4[i,j] = optimal_controls(t,T,\n",
    "                     N_1,zeta,\n",
    "                     lambda_a,lambda_b,alpha1,phi1,kappa,\n",
    "                     Y_1,hat_y1,m2_1,y_test,\n",
    "                     delta_a_2,delta_b_2)"
   ]
  },
  {
   "cell_type": "code",
   "execution_count": 66,
   "id": "70992678",
   "metadata": {
    "ExecuteTime": {
     "end_time": "2024-05-30T17:06:15.475650Z",
     "start_time": "2024-05-30T17:06:14.653707Z"
    }
   },
   "outputs": [
    {
     "data": {
      "image/png": "[encoded data removed]",
      "text/plain": [
       "<Figure size 1400x600 with 8 Axes>"
      ]
     },
     "metadata": {},
     "output_type": "display_data"
    }
   ],
   "source": [
    "plt.figure(figsize=(14,6))\n",
    "\n",
    "\n",
    "plt.subplot(2,4,1)\n",
    "plt.plot(t_grid,delta_a_star_1[5,:],'b',label='y=3')\n",
    "plt.plot(t_grid,delta_a_star_1[4,:],'g',label='y=2')\n",
    "plt.plot(t_grid,delta_a_star_1[3,:],'r',label='y=1')\n",
    "plt.plot(t_grid,delta_a_star_1[2,:],'c',label='y=-1')\n",
    "plt.plot(t_grid,delta_a_star_1[1,:],'violet',label='y=-2')\n",
    "plt.plot(t_grid,delta_a_star_1[0,:],'y',label='y=-3')\n",
    "plt.ylabel('Sell depth $\\delta^{1,a}$')\n",
    "#plt.ylim(-1, 1)  # Set the limits of y-axis\n",
    "plt.grid(True, color='gray', linestyle='--', linewidth=0.5)\n",
    "#plt.yticks([0,0.005, 0.01, 0.015,0.02])  # Set specific y-axis ticks\n",
    "\n",
    "\n",
    "plt.subplot(2,4,5)\n",
    "plt.plot(t_grid,delta_b_star_1[5,:],'b',label='y=3')\n",
    "plt.plot(t_grid,delta_b_star_1[4,:],'g',label='y=2')\n",
    "plt.plot(t_grid,delta_b_star_1[3,:],'r',label='y=1')\n",
    "plt.plot(t_grid,delta_b_star_1[2,:],'c',label='y=-1')\n",
    "plt.plot(t_grid,delta_b_star_1[1,:],'violet',label='y=-2')\n",
    "plt.plot(t_grid,delta_b_star_1[0,:],'y',label='y=-3')\n",
    "plt.xlabel('Time (s)')\n",
    "plt.ylabel('Buy depth $\\delta^{1,b}$');\n",
    "#plt.ylim(-1, 1)  # Set the limits of y-axis\n",
    "plt.grid(True, color='gray', linestyle='--', linewidth=0.5)\n",
    "#plt.yticks([0,0.005, 0.01, 0.015,0.02]);  # Set specific y-axis ticks\n",
    "\n",
    "plt.subplot(2,4,2)\n",
    "plt.plot(phi11,delta_a_star_2[5,:],'b',label='y=3')\n",
    "plt.plot(phi11,delta_a_star_2[4,:],'g',label='y=2')\n",
    "plt.plot(phi11,delta_a_star_2[3,:],'r',label='y=1')\n",
    "plt.plot(phi11,delta_a_star_2[2,:],'c',label='y=-1')\n",
    "plt.plot(phi11,delta_a_star_2[1,:],'violet',label='y=-2')\n",
    "plt.plot(phi11,delta_a_star_2[0,:],'y',label='y=-3')\n",
    "#plt.ylim(-1, 1)  # Set the limits of y-axis\n",
    "plt.grid(True, color='gray', linestyle='--', linewidth=0.5)\n",
    "#plt.yticks([0,0.005, 0.01, 0.015,0.02])  # Set specific y-axis ticks\n",
    "\n",
    "\n",
    "plt.subplot(2,4,6)\n",
    "plt.plot(phi11,delta_b_star_2[5,:],'b',label='y=3')\n",
    "plt.plot(phi11,delta_b_star_2[4,:],'g',label='y=2')\n",
    "plt.plot(phi11,delta_b_star_2[3,:],'r',label='y=1')\n",
    "plt.plot(phi11,delta_b_star_2[2,:],'c',label='y=-1')\n",
    "plt.plot(phi11,delta_b_star_2[1,:],'violet',label='y=-2')\n",
    "plt.plot(phi11,delta_b_star_2[0,:],'y',label='y=-3')\n",
    "plt.xlabel('$\\\\phi^1$')\n",
    "#plt.ylim(-1, 1)  # Set the limits of y-axis\n",
    "plt.grid(True, color='gray', linestyle='--', linewidth=0.5)\n",
    "#plt.yticks([0,0.005, 0.01, 0.015,0.02]);  # Set specific y-axis ticks\n",
    "\n",
    "plt.subplot(2,4,3)\n",
    "plt.plot(alpha11,delta_a_star_3[5,:],'b',label='y=3')\n",
    "plt.plot(alpha11,delta_a_star_3[4,:],'g',label='y=2')\n",
    "plt.plot(alpha11,delta_a_star_3[3,:],'r',label='y=1')\n",
    "plt.plot(alpha11,delta_a_star_3[2,:],'c',label='y=-1')\n",
    "plt.plot(alpha11,delta_a_star_3[1,:],'violet',label='y=-2')\n",
    "plt.plot(alpha11,delta_a_star_3[0,:],'y',label='y=-3')\n",
    "#plt.ylim(-1, 1)  # Set the limits of y-axis\n",
    "plt.grid(True, color='gray', linestyle='--', linewidth=0.5)\n",
    "#plt.yticks([0,0.005, 0.01, 0.015,0.02])  # Set specific y-axis ticks\n",
    "\n",
    "\n",
    "plt.subplot(2,4,7)\n",
    "plt.plot(alpha11,delta_b_star_3[5,:],'b',label='y=3')\n",
    "plt.plot(alpha11,delta_b_star_3[4,:],'g',label='y=2')\n",
    "plt.plot(alpha11,delta_b_star_3[3,:],'r',label='y=1')\n",
    "plt.plot(alpha11,delta_b_star_3[2,:],'c',label='y=-1')\n",
    "plt.plot(alpha11,delta_b_star_3[1,:],'violet',label='y=-2')\n",
    "plt.plot(alpha11,delta_b_star_3[0,:],'y',label='y=-3')\n",
    "plt.xlabel('$\\\\alpha^1$')\n",
    "#plt.ylim(-1, 1)  # Set the limits of y-axis\n",
    "plt.grid(True, color='gray', linestyle='--', linewidth=0.5)\n",
    "#plt.yticks([0,0.005, 0.01, 0.015,0.02]);  # Set specific y-axis ticks\n",
    "\n",
    "plt.subplot(2,4,4)\n",
    "plt.plot(kappa11,delta_a_star_4[5,:],'b',label='y=3')\n",
    "plt.plot(kappa11,delta_a_star_4[4,:],'g',label='y=2')\n",
    "plt.plot(kappa11,delta_a_star_4[3,:],'r',label='y=1')\n",
    "plt.plot(kappa11,delta_a_star_4[2,:],'c',label='y=-1')\n",
    "plt.plot(kappa11,delta_a_star_4[1,:],'violet',label='y=-2')\n",
    "plt.plot(kappa11,delta_a_star_4[0,:],'y',label='y=-3')\n",
    "plt.legend(loc='center right')\n",
    "#plt.ylim(-1, 1)  # Set the limits of y-axis\n",
    "plt.grid(True, color='gray', linestyle='--', linewidth=0.5)\n",
    "#plt.yticks([0,0.005, 0.01, 0.015,0.02])  # Set specific y-axis ticks\n",
    "\n",
    "\n",
    "plt.subplot(2,4,8)\n",
    "plt.plot(kappa11,delta_b_star_4[5,:],'b',label='y=3')\n",
    "plt.plot(kappa11,delta_b_star_4[4,:],'g',label='y=2')\n",
    "plt.plot(kappa11,delta_b_star_4[3,:],'r',label='y=1')\n",
    "plt.plot(kappa11,delta_b_star_4[2,:],'c',label='y=-1')\n",
    "plt.plot(kappa11,delta_b_star_4[1,:],'violet',label='y=-2')\n",
    "plt.plot(kappa11,delta_b_star_4[0,:],'y',label='y=-3')\n",
    "plt.legend(loc='center right')\n",
    "plt.xlabel('$\\\\kappa^1$')\n",
    "#plt.ylim(-1, 1)  # Set the limits of y-axis\n",
    "plt.grid(True, color='gray', linestyle='--', linewidth=0.5)\n",
    "#plt.yticks([0,0.005, 0.01, 0.015,0.02]);  # Set specific y-axis ticks\n",
    "\n",
    "# If you need to set ticks in Times New Roman, ensure this by setting tick labels explicitly if needed\n",
    "# Example to set x-ticks (similarly for y-ticks):\n",
    "plt.xticks(fontname='Times New Roman')\n",
    "plt.yticks(fontname='Times New Roman')\n",
    "plt.savefig('General analysis Model 1.b.png', format='png', dpi=300, bbox_inches='tight')"
   ]
  },
  {
   "cell_type": "markdown",
   "id": "a5fcd303",
   "metadata": {},
   "source": [
    "We can see that as y_hat is the objective against which there is a terminal and inventory penalty, the MM wants to reach 0. The figure shows the behaviour of the optimal depths as a function of time for different inventory levels. In the examples, the arrival rate of MOs is lambda a=lambda b=1 (i.e., there are on average 1 buy and 1 sell MO per second), max y=-min y =3, and phi=10^-5. On the left, we show the optimal sell postings delta^a, i.e., upon the arrival of a market buy order the MM is willing to sell one unit of the asset at the price S_t +delta^a, and in the right, we show the optimal buy postings delta^a. For example, when the strategy is away from expiry (T=30 seconds) and inventories are closed to allowed minimum (e.g., y=-2), the optimal sell postings is further away from the midprice (delta^a=0.081) bcs only at a very high price is the LP willing to decrease the inventory further, and at the same time the optimal buy is close to the midprice (delta^b=0.037) bcs the LP would like to complete round-trip trades (i.e., a buy followed by a sell or a sell followed by a buy) and push inventories to zeros. TRY CHANGING y_hat\n",
    "\n",
    "We also observe that as the strategy approaches T and y<0 (e.g.,y=-2), the optimal sell decreases (delta^a: from 0.081 to 0.055) and the optimal buy increases (delta^b: from 0.037 to 0.046). To understand this, not that if the terminal inventory y<0 is liquidated, then when the terminal penalty alpha is very small as well as being fractions of seconds away of T, it is optimal to post nearer the midprice to increase the chances of being filled (i.e., selling one more unit of the asset) because the price is not expected to move too much before expiry and the entire position will be unwound at the midprice - making a profit on the last asset that was sold."
   ]
  },
  {
   "cell_type": "code",
   "execution_count": null,
   "id": "b80c5da5",
   "metadata": {
    "ExecuteTime": {
     "end_time": "2024-05-29T19:36:39.261019Z",
     "start_time": "2024-05-29T19:36:39.174701Z"
    }
   },
   "outputs": [],
   "source": [
    "y_min_1 = -3;\n",
    "y_max_1 = 3;\n",
    "N_1=int((y_max_1-y_min_1)/zeta)\n",
    "Y_1 = np.linspace(y_max_1, y_min_1, N_1+1)\n",
    "\n",
    "phi1 = 10**(-5) # No inventory penalty\n",
    "alpha1 = 0.001 # No terminal penalty\n",
    "kappa1= 10\n",
    "hat_y1 = 0 #objective y\n",
    "\n",
    "delta_a_2=np.linspace(0,0.2);\n",
    "delta_b_2=np.linspace(0,0.2);\n",
    "\n",
    "time_steps = 100  # Number of time steps to evaluate\n",
    "t_grid = np.linspace(0, T, time_steps)\n",
    "t=t_grid[-5]\n",
    "y_test_range=[-3,-2,-1,1,2,3]\n",
    "# Storing results for each time point (x-coordinate) and y (y-coordinate)\n",
    "delta_b_star = np.zeros((len(y_test_range),len(delta_a_2)))\n",
    "delta_a_star = np.zeros((len(y_test_range),len(delta_a_2)))\n",
    "# Compute W(t) for each time point\n",
    "for i,y_test in enumerate(y_test_range):\n",
    "    for j in range(len(delta_a_2)):\n",
    "        x_test=y_test\n",
    "        z_test=x_test/y_test\n",
    "        m2_1=x_test*y_test;\n",
    "        \n",
    "        delta_b_star[i,j], delta_a_star[i,j] = optimal_controls(t,T,\n",
    "                     N_1,zeta,\n",
    "                     lambda_a,lambda_b,alpha1,phi1,kappa1,\n",
    "                     Y_1,hat_y1,m2_1,y_test,\n",
    "                     delta_a_2[j],delta_b_2[j])"
   ]
  },
  {
   "cell_type": "code",
   "execution_count": null,
   "id": "3f92ddaf",
   "metadata": {
    "ExecuteTime": {
     "end_time": "2024-05-29T19:36:43.743037Z",
     "start_time": "2024-05-29T19:36:43.204080Z"
    }
   },
   "outputs": [],
   "source": [
    "plt.figure(figsize=(14,6))\n",
    "plt.subplot(1,2,1)\n",
    "plt.plot(delta_a_2,delta_a_star[5,:],'b',label='y=3')\n",
    "plt.plot(delta_a_2,delta_a_star[4,:],'g',label='y=2')\n",
    "plt.plot(delta_a_2,delta_a_star[3,:],'r',label='y=1')\n",
    "plt.plot(delta_a_2,delta_a_star[2,:],'c',label='y=-1')\n",
    "plt.plot(delta_a_2,delta_a_star[1,:],'violet',label='y=-2')\n",
    "plt.plot(delta_a_2,delta_a_star[0,:],'y',label='y=-3')\n",
    "plt.legend()\n",
    "plt.xlabel('Competitor sell depth $\\delta^{2,a}$')\n",
    "plt.ylabel('Sell depth $\\delta^{1,a}$')\n",
    "#plt.ylim(-1, 1)  # Set the limits of y-axis\n",
    "plt.grid(True, color='gray', linestyle='--', linewidth=0.5)\n",
    "#plt.yticks([0,0.005, 0.01, 0.015,0.02])  # Set specific y-axis ticks\n",
    "\n",
    "\n",
    "plt.subplot(1,2,2)\n",
    "plt.plot(delta_b_2,delta_b_star[5,:],'b',label='y=3')\n",
    "plt.plot(delta_b_2,delta_b_star[4,:],'g',label='y=2')\n",
    "plt.plot(delta_b_2,delta_b_star[3,:],'r',label='y=1')\n",
    "plt.plot(delta_b_2,delta_b_star[2,:],'c',label='y=-1')\n",
    "plt.plot(delta_b_2,delta_b_star[1,:],'violet',label='y=-2')\n",
    "plt.plot(delta_b_2,delta_b_star[0,:],'y',label='y=-3')\n",
    "plt.legend()\n",
    "plt.xlabel('Competitor buy depth $\\delta^{2,b}$')\n",
    "plt.ylabel('Buy depth $\\delta^{1,b}$');\n",
    "#plt.ylim(-1, 1)  # Set the limits of y-axis\n",
    "plt.grid(True, color='gray', linestyle='--', linewidth=0.5)\n",
    "#plt.yticks([0,0.005, 0.01, 0.015,0.02]);  # Set specific y-axis ticks\n",
    "\n",
    "plt.savefig('Varying competing depth Model 1.b.png', format='png', dpi=300, bbox_inches='tight')"
   ]
  },
  {
   "cell_type": "markdown",
   "id": "9facb53c",
   "metadata": {
    "ExecuteTime": {
     "end_time": "2024-05-25T09:13:14.106093Z",
     "start_time": "2024-05-25T09:13:14.102329Z"
    }
   },
   "source": [
    "### Simulating for non-competitive LP2: S cheaper that Z, different y values with Z constant, y_hat=0\n",
    "We will compare how the depth of an LP would vary as he is far away from his objective"
   ]
  },
  {
   "cell_type": "markdown",
   "id": "65c4b6ab",
   "metadata": {},
   "source": [
    "### Simulating for non-competitive LP2: S more expensive that Z, different y values with Z constant, y_hat=0\n",
    "We will compare how the depth of an LP would vary as he is far away from his objective"
   ]
  },
  {
   "cell_type": "markdown",
   "id": "24a65715",
   "metadata": {},
   "source": [
    "### Simulating for competitive LP2: S=Z1=Z2, different y values with Z constant, y_hat=0\n",
    "We will compare how the depth of an LP would vary as he is far away from his objective"
   ]
  },
  {
   "cell_type": "code",
   "execution_count": null,
   "id": "0b8241fc",
   "metadata": {
    "ExecuteTime": {
     "end_time": "2024-05-29T19:36:52.778309Z",
     "start_time": "2024-05-29T19:36:52.645515Z"
    }
   },
   "outputs": [],
   "source": [
    "y_min_1 = -3;\n",
    "y_max_1 = 3;\n",
    "N_1=int((y_max_1-y_min_1)/zeta)\n",
    "Y_1 = np.linspace(y_max_1, y_min_1, N_1+1)\n",
    "\n",
    "phi1 = 10**(-2) # No inventory penalty\n",
    "alpha1 = 10**(-1) # No terminal penalty\n",
    "kappa1= 10\n",
    "hat_y1 = 0 #objective y\n",
    "\n",
    "delta_a_2=0.01;\n",
    "delta_b_2=0.01;\n",
    "\n",
    "time_steps = 100  # Number of time steps to evaluate\n",
    "t_grid = np.linspace(0, T, time_steps)\n",
    "y_test_range=[-3,-2,-1,1,2,3]\n",
    "# Storing results for each time point (x-coordinate) and y (y-coordinate)\n",
    "delta_b_star_1 = np.zeros((len(y_test_range),len(t_grid)))\n",
    "delta_a_star_1 = np.zeros((len(y_test_range),len(t_grid)))\n",
    "# Compute W(t) for each time point\n",
    "for i,y_test in enumerate(y_test_range):\n",
    "    for j, t in enumerate(t_grid):\n",
    "        x_test=y_test\n",
    "        z_test=x_test/y_test\n",
    "        m2_1=x_test*y_test;\n",
    "        \n",
    "        delta_b_star_1[i,j], delta_a_star_1[i,j] = optimal_controls(t,T,\n",
    "                     N_1,zeta,\n",
    "                     lambda_a,lambda_b,alpha1,phi1,kappa1,\n",
    "                     Y_1,hat_y1,m2_1,y_test,\n",
    "                     delta_a_2,delta_b_2)"
   ]
  },
  {
   "cell_type": "code",
   "execution_count": null,
   "id": "2fe56cc3",
   "metadata": {
    "ExecuteTime": {
     "end_time": "2024-05-29T19:36:57.537804Z",
     "start_time": "2024-05-29T19:36:57.460078Z"
    }
   },
   "outputs": [],
   "source": [
    "y_min_1 = -3;\n",
    "y_max_1 = 3;\n",
    "N_1=int((y_max_1-y_min_1)/zeta)\n",
    "Y_1 = np.linspace(y_max_1, y_min_1, N_1+1)\n",
    "\n",
    "phi11 = np.linspace(10**(-1),10**(-2)) # No inventory penalty\n",
    "alpha1 = 0.1 # No terminal penalty\n",
    "kappa1= 10\n",
    "hat_y1 = 0 #objective y\n",
    "\n",
    "delta_a_2=0.01;\n",
    "delta_b_2=0.01;\n",
    "\n",
    "time_steps = 100  # Number of time steps to evaluate\n",
    "t_grid = np.linspace(0, T, time_steps)\n",
    "t=t_grid[-1]\n",
    "y_test_range=[-3,-2,-1,1,2,3]\n",
    "# Storing results for each time point (x-coordinate) and y (y-coordinate)\n",
    "delta_b_star_2 = np.zeros((len(y_test_range),len(phi11)))\n",
    "delta_a_star_2 = np.zeros((len(y_test_range),len(phi11)))\n",
    "# Compute W(t) for each time point\n",
    "for i,y_test in enumerate(y_test_range):\n",
    "    for j, phi in enumerate(phi11):\n",
    "        x_test=y_test\n",
    "        z_test=x_test/y_test\n",
    "        m2_1=x_test*y_test;\n",
    "        \n",
    "        delta_b_star_2[i,j], delta_a_star_2[i,j] = optimal_controls(t,T,\n",
    "                     N_1,zeta,\n",
    "                     lambda_a,lambda_b,alpha1,phi,kappa1,\n",
    "                     Y_1,hat_y1,m2_1,y_test,\n",
    "                     delta_a_2,delta_b_2)"
   ]
  },
  {
   "cell_type": "code",
   "execution_count": null,
   "id": "7dafc12a",
   "metadata": {
    "ExecuteTime": {
     "end_time": "2024-05-29T19:37:00.878924Z",
     "start_time": "2024-05-29T19:37:00.793113Z"
    }
   },
   "outputs": [],
   "source": [
    "y_min_1 = -3;\n",
    "y_max_1 = 3;\n",
    "N_1=int((y_max_1-y_min_1)/zeta)\n",
    "Y_1 = np.linspace(y_max_1, y_min_1, N_1+1)\n",
    "\n",
    "phi1 = 10**(-2) # No inventory penalty\n",
    "alpha11 = np.linspace(10**(-0),10**(-1)) # No terminal penalty\n",
    "kappa1= 10\n",
    "hat_y1 = 0 #objective y\n",
    "\n",
    "delta_a_2=0.01;\n",
    "delta_b_2=0.01;\n",
    "\n",
    "time_steps = 100  # Number of time steps to evaluate\n",
    "t_grid = np.linspace(0, T, time_steps)\n",
    "t=t_grid[-1]\n",
    "y_test_range=[-3,-2,-1,1,2,3]\n",
    "# Storing results for each time point (x-coordinate) and y (y-coordinate)\n",
    "delta_b_star_3 = np.zeros((len(y_test_range),len(alpha11)))\n",
    "delta_a_star_3 = np.zeros((len(y_test_range),len(alpha11)))\n",
    "# Compute W(t) for each time point\n",
    "for i,y_test in enumerate(y_test_range):\n",
    "    for j, alpha in enumerate(alpha11):\n",
    "        x_test=y_test\n",
    "        z_test=x_test/y_test\n",
    "        m2_1=x_test*y_test;\n",
    "        \n",
    "        delta_b_star_3[i,j], delta_a_star_3[i,j] = optimal_controls(t,T,\n",
    "                     N_1,zeta,\n",
    "                     lambda_a,lambda_b,alpha,phi1,kappa1,\n",
    "                     Y_1,hat_y1,m2_1,y_test,\n",
    "                     delta_a_2,delta_b_2)"
   ]
  },
  {
   "cell_type": "code",
   "execution_count": null,
   "id": "74aff56c",
   "metadata": {
    "ExecuteTime": {
     "end_time": "2024-05-29T19:37:05.035301Z",
     "start_time": "2024-05-29T19:37:04.954472Z"
    }
   },
   "outputs": [],
   "source": [
    "y_min_1 = -3;\n",
    "y_max_1 = 3;\n",
    "N_1=int((y_max_1-y_min_1)/zeta)\n",
    "Y_1 = np.linspace(y_max_1, y_min_1, N_1+1)\n",
    "\n",
    "phi1 = 10**(-2) # No inventory penalty\n",
    "alpha1 = 10**(-1) # No terminal penalty\n",
    "kappa11= np.linspace(1,30)\n",
    "hat_y1 = 0 #objective y\n",
    "\n",
    "delta_a_2=0.01;\n",
    "delta_b_2=0.01;\n",
    "\n",
    "time_steps = 100  # Number of time steps to evaluate\n",
    "t_grid = np.linspace(0, T, time_steps)\n",
    "t=t_grid[-1]\n",
    "y_test_range=[-3,-2,-1,1,2,3]\n",
    "# Storing results for each time point (x-coordinate) and y (y-coordinate)\n",
    "delta_b_star_4 = np.zeros((len(y_test_range),len(kappa11)))\n",
    "delta_a_star_4 = np.zeros((len(y_test_range),len(kappa11)))\n",
    "# Compute W(t) for each time point\n",
    "for i,y_test in enumerate(y_test_range):\n",
    "    for j, kappa in enumerate(kappa11):\n",
    "        x_test=y_test\n",
    "        z_test=x_test/y_test\n",
    "        m2_1=x_test*y_test;\n",
    "        \n",
    "        delta_b_star_4[i,j], delta_a_star_4[i,j] = optimal_controls(t,T,\n",
    "                     N_1,zeta,\n",
    "                     lambda_a,lambda_b,alpha1,phi1,kappa,\n",
    "                     Y_1,hat_y1,m2_1,y_test,\n",
    "                     delta_a_2,delta_b_2)"
   ]
  },
  {
   "cell_type": "code",
   "execution_count": null,
   "id": "fc3ffc71",
   "metadata": {
    "ExecuteTime": {
     "end_time": "2024-05-29T19:37:07.863741Z",
     "start_time": "2024-05-29T19:37:07.003142Z"
    }
   },
   "outputs": [],
   "source": [
    "plt.figure(figsize=(14,6))\n",
    "\n",
    "\n",
    "plt.subplot(2,4,1)\n",
    "plt.plot(t_grid,delta_a_star_1[5,:],'b',label='y=3')\n",
    "plt.plot(t_grid,delta_a_star_1[4,:],'g',label='y=2')\n",
    "plt.plot(t_grid,delta_a_star_1[3,:],'r',label='y=1')\n",
    "plt.plot(t_grid,delta_a_star_1[2,:],'c',label='y=-1')\n",
    "plt.plot(t_grid,delta_a_star_1[1,:],'violet',label='y=-2')\n",
    "plt.plot(t_grid,delta_a_star_1[0,:],'y',label='y=-3')\n",
    "plt.ylabel('Sell depth $\\delta^{1,a}$')\n",
    "#plt.ylim(-1, 1)  # Set the limits of y-axis\n",
    "plt.grid(True, color='gray', linestyle='--', linewidth=0.5)\n",
    "#plt.yticks([0,0.005, 0.01, 0.015,0.02])  # Set specific y-axis ticks\n",
    "\n",
    "\n",
    "plt.subplot(2,4,5)\n",
    "plt.plot(t_grid,delta_b_star_1[5,:],'b',label='y=3')\n",
    "plt.plot(t_grid,delta_b_star_1[4,:],'g',label='y=2')\n",
    "plt.plot(t_grid,delta_b_star_1[3,:],'r',label='y=1')\n",
    "plt.plot(t_grid,delta_b_star_1[2,:],'c',label='y=-1')\n",
    "plt.plot(t_grid,delta_b_star_1[1,:],'violet',label='y=-2')\n",
    "plt.plot(t_grid,delta_b_star_1[0,:],'y',label='y=-3')\n",
    "plt.xlabel('Time (s)')\n",
    "plt.ylabel('Buy depth $\\delta^{1,b}$');\n",
    "#plt.ylim(-1, 1)  # Set the limits of y-axis\n",
    "plt.grid(True, color='gray', linestyle='--', linewidth=0.5)\n",
    "#plt.yticks([0,0.005, 0.01, 0.015,0.02]);  # Set specific y-axis ticks\n",
    "\n",
    "plt.subplot(2,4,2)\n",
    "plt.plot(phi11,delta_a_star_2[5,:],'b',label='y=3')\n",
    "plt.plot(phi11,delta_a_star_2[4,:],'g',label='y=2')\n",
    "plt.plot(phi11,delta_a_star_2[3,:],'r',label='y=1')\n",
    "plt.plot(phi11,delta_a_star_2[2,:],'c',label='y=-1')\n",
    "plt.plot(phi11,delta_a_star_2[1,:],'violet',label='y=-2')\n",
    "plt.plot(phi11,delta_a_star_2[0,:],'y',label='y=-3')\n",
    "#plt.ylim(-1, 1)  # Set the limits of y-axis\n",
    "plt.grid(True, color='gray', linestyle='--', linewidth=0.5)\n",
    "#plt.yticks([0,0.005, 0.01, 0.015,0.02])  # Set specific y-axis ticks\n",
    "\n",
    "\n",
    "plt.subplot(2,4,6)\n",
    "plt.plot(phi11,delta_b_star_2[5,:],'b',label='y=3')\n",
    "plt.plot(phi11,delta_b_star_2[4,:],'g',label='y=2')\n",
    "plt.plot(phi11,delta_b_star_2[3,:],'r',label='y=1')\n",
    "plt.plot(phi11,delta_b_star_2[2,:],'c',label='y=-1')\n",
    "plt.plot(phi11,delta_b_star_2[1,:],'violet',label='y=-2')\n",
    "plt.plot(phi11,delta_b_star_2[0,:],'y',label='y=-3')\n",
    "plt.xlabel('$\\\\phi^1$')\n",
    "#plt.ylim(-1, 1)  # Set the limits of y-axis\n",
    "plt.grid(True, color='gray', linestyle='--', linewidth=0.5)\n",
    "#plt.yticks([0,0.005, 0.01, 0.015,0.02]);  # Set specific y-axis ticks\n",
    "\n",
    "plt.subplot(2,4,3)\n",
    "plt.plot(alpha11,delta_a_star_3[5,:],'b',label='y=3')\n",
    "plt.plot(alpha11,delta_a_star_3[4,:],'g',label='y=2')\n",
    "plt.plot(alpha11,delta_a_star_3[3,:],'r',label='y=1')\n",
    "plt.plot(alpha11,delta_a_star_3[2,:],'c',label='y=-1')\n",
    "plt.plot(alpha11,delta_a_star_3[1,:],'violet',label='y=-2')\n",
    "plt.plot(alpha11,delta_a_star_3[0,:],'y',label='y=-3')\n",
    "#plt.ylim(-1, 1)  # Set the limits of y-axis\n",
    "plt.grid(True, color='gray', linestyle='--', linewidth=0.5)\n",
    "#plt.yticks([0,0.005, 0.01, 0.015,0.02])  # Set specific y-axis ticks\n",
    "\n",
    "\n",
    "plt.subplot(2,4,7)\n",
    "plt.plot(alpha11,delta_b_star_3[5,:],'b',label='y=3')\n",
    "plt.plot(alpha11,delta_b_star_3[4,:],'g',label='y=2')\n",
    "plt.plot(alpha11,delta_b_star_3[3,:],'r',label='y=1')\n",
    "plt.plot(alpha11,delta_b_star_3[2,:],'c',label='y=-1')\n",
    "plt.plot(alpha11,delta_b_star_3[1,:],'violet',label='y=-2')\n",
    "plt.plot(alpha11,delta_b_star_3[0,:],'y',label='y=-3')\n",
    "plt.xlabel('$\\\\alpha^1$')\n",
    "#plt.ylim(-1, 1)  # Set the limits of y-axis\n",
    "plt.grid(True, color='gray', linestyle='--', linewidth=0.5)\n",
    "#plt.yticks([0,0.005, 0.01, 0.015,0.02]);  # Set specific y-axis ticks\n",
    "\n",
    "plt.subplot(2,4,4)\n",
    "plt.plot(kappa11,delta_a_star_4[5,:],'b',label='y=3')\n",
    "plt.plot(kappa11,delta_a_star_4[4,:],'g',label='y=2')\n",
    "plt.plot(kappa11,delta_a_star_4[3,:],'r',label='y=1')\n",
    "plt.plot(kappa11,delta_a_star_4[2,:],'c',label='y=-1')\n",
    "plt.plot(kappa11,delta_a_star_4[1,:],'violet',label='y=-2')\n",
    "plt.plot(kappa11,delta_a_star_4[0,:],'y',label='y=-3')\n",
    "plt.legend(loc='center right')\n",
    "#plt.ylim(-1, 1)  # Set the limits of y-axis\n",
    "plt.grid(True, color='gray', linestyle='--', linewidth=0.5)\n",
    "#plt.yticks([0,0.005, 0.01, 0.015,0.02])  # Set specific y-axis ticks\n",
    "\n",
    "\n",
    "plt.subplot(2,4,8)\n",
    "plt.plot(kappa11,delta_b_star_4[5,:],'b',label='y=3')\n",
    "plt.plot(kappa11,delta_b_star_4[4,:],'g',label='y=2')\n",
    "plt.plot(kappa11,delta_b_star_4[3,:],'r',label='y=1')\n",
    "plt.plot(kappa11,delta_b_star_4[2,:],'c',label='y=-1')\n",
    "plt.plot(kappa11,delta_b_star_4[1,:],'violet',label='y=-2')\n",
    "plt.plot(kappa11,delta_b_star_4[0,:],'y',label='y=-3')\n",
    "plt.legend(loc='center right')\n",
    "plt.xlabel('$\\\\kappa^1$')\n",
    "#plt.ylim(-1, 1)  # Set the limits of y-axis\n",
    "plt.grid(True, color='gray', linestyle='--', linewidth=0.5)\n",
    "#plt.yticks([0,0.005, 0.01, 0.015,0.02]);  # Set specific y-axis ticks\n",
    "\n",
    "plt.savefig('General analysis Model 1.b with competing depths.png', format='png', dpi=300, bbox_inches='tight')"
   ]
  },
  {
   "cell_type": "code",
   "execution_count": null,
   "id": "55c27d64",
   "metadata": {},
   "outputs": [],
   "source": []
  }
 ],
 "metadata": {
  "kernelspec": {
   "display_name": "Python 3 (ipykernel)",
   "language": "python",
   "name": "python3"
  },
  "language_info": {
   "codemirror_mode": {
    "name": "ipython",
    "version": 3
   },
   "file_extension": ".py",
   "mimetype": "text/x-python",
   "name": "python",
   "nbconvert_exporter": "python",
   "pygments_lexer": "ipython3",
   "version": "3.10.8"
  },
  "toc": {
   "base_numbering": 1,
   "nav_menu": {},
   "number_sections": true,
   "sideBar": true,
   "skip_h1_title": false,
   "title_cell": "Table of Contents",
   "title_sidebar": "Contents",
   "toc_cell": false,
   "toc_position": {},
   "toc_section_display": true,
   "toc_window_display": false
  },
  "varInspector": {
   "cols": {
    "lenName": 16,
    "lenType": 16,
    "lenVar": 40
   },
   "kernels_config": {
    "python": {
     "delete_cmd_postfix": "",
     "delete_cmd_prefix": "del ",
     "library": "var_list.py",
     "varRefreshCmd": "print(var_dic_list())"
    },
    "r": {
     "delete_cmd_postfix": ") ",
     "delete_cmd_prefix": "rm(",
     "library": "var_list.r",
     "varRefreshCmd": "cat(var_dic_list()) "
    }
   },
   "types_to_exclude": [
    "module",
    "function",
    "builtin_function_or_method",
    "instance",
    "_Feature"
   ],
   "window_display": false
  }
 },
 "nbformat": 4,
 "nbformat_minor": 5
}
