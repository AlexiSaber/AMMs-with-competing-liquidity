{
 "cells": [
  {
   "cell_type": "code",
   "execution_count": null,
   "id": "619a55eb",
   "metadata": {
    "ExecuteTime": {
     "end_time": "2024-06-12T16:48:35.598975Z",
     "start_time": "2024-06-12T16:48:35.593435Z"
    }
   },
   "outputs": [],
   "source": [
    "import numpy as np\n",
    "from scipy.linalg import expm\n",
    "import pandas as pd\n",
    "from scipy.sparse import diags\n",
    "\n",
    "import matplotlib.pyplot as plt\n",
    "import matplotlib as mpl\n",
    "\n",
    "# Set the font to Times New Roman for the whole plot\n",
    "mpl.rcParams['font.family'] = 'serif'\n",
    "mpl.rcParams['font.serif'] = 'Times New Roman'"
   ]
  },
  {
   "cell_type": "markdown",
   "id": "20fa3d9e",
   "metadata": {},
   "source": [
    "## Functions"
   ]
  },
  {
   "cell_type": "code",
   "execution_count": null,
   "id": "4e98bfe5",
   "metadata": {
    "ExecuteTime": {
     "end_time": "2024-06-12T16:48:36.644637Z",
     "start_time": "2024-06-12T16:48:36.638601Z"
    }
   },
   "outputs": [],
   "source": [
    "# Optimal controls verification\n",
    "def optimal_controls(t,T,\n",
    "                     N_1,zeta,\n",
    "                     lambda_a,lambda_b,alpha1,phi1,kappa1,\n",
    "                     Y_1,hat_y1,m2_1,y,\n",
    "                     delta_a_2,delta_b_2):\n",
    "    \n",
    "    K=k_matrix(N_1, lambda_a, lambda_b, phi1, kappa1, Y_1, hat_y1, delta_a_2, delta_b_2)\n",
    "    w=W_t_function(alpha1, kappa1, zeta, Y_1, hat_y1, K, t)\n",
    "    \n",
    "    \n",
    "    h1_1st=h1_function(zeta,kappa1,w,y,Y_1);\n",
    "    h1_2nd=h1_function(zeta,kappa1,w,y+zeta,Y_1);\n",
    "    h1_3rd=h1_function(zeta,kappa1,w,y-zeta,Y_1);\n",
    "    z= m2_1/(y**2);\n",
    "    delta_b_star = (1 / (2 * kappa1)) + (h1_1st - h1_2nd) / zeta\n",
    "    delta_a_star = (1 / (2 * kappa1)) + (h1_1st - h1_3rd) / zeta\n",
    "    return delta_b_star, delta_a_star"
   ]
  },
  {
   "cell_type": "code",
   "execution_count": null,
   "id": "7415be6a",
   "metadata": {
    "ExecuteTime": {
     "end_time": "2024-06-12T16:48:37.008745Z",
     "start_time": "2024-06-12T16:48:37.004333Z"
    }
   },
   "outputs": [],
   "source": [
    "# Level functions and derivative\n",
    "def lvlfct(m_2, y):\n",
    "    return m_2/y;\n",
    "\n",
    "def lvlfct_deriv(m_2,y):\n",
    "    return -m_2/y**2"
   ]
  },
  {
   "cell_type": "code",
   "execution_count": null,
   "id": "0f93da21",
   "metadata": {
    "ExecuteTime": {
     "end_time": "2024-06-12T16:48:37.348203Z",
     "start_time": "2024-06-12T16:48:37.343493Z"
    }
   },
   "outputs": [],
   "source": [
    "# h1 and H1\n",
    "def h1_function(zeta, kappa, w, y, Y_1):\n",
    "    # Find entries in w where Y_1 matches y\n",
    "    w=np.sqrt(w)\n",
    "    matched_w = w[Y_1 == y]\n",
    "    # Check if the matched_w array is empty\n",
    "    if matched_w.size == 0:\n",
    "        return np.nan  # Return np.nan if y is not found in Y_1\n",
    "    else:\n",
    "        # Calculate h1 if there is at least one match\n",
    "        h1 = (zeta / kappa) * np.log(matched_w.item())  # Assuming only one match; use matched_w[0] if multiple matches are handled differently\n",
    "        return h1\n",
    "    \n",
    "def H1_function(x,y,z,h1):\n",
    "    H1=x+y*z+h1\n",
    "    return H1"
   ]
  },
  {
   "cell_type": "code",
   "execution_count": null,
   "id": "bb24002a",
   "metadata": {
    "ExecuteTime": {
     "end_time": "2024-06-12T16:48:37.664294Z",
     "start_time": "2024-06-12T16:48:37.659699Z"
    }
   },
   "outputs": [],
   "source": [
    "# W_t\n",
    "def W_t_function(alpha1, kappa1, zeta, Y_1, hat_y1, K, t):\n",
    "    exponent_values = -alpha1 * kappa1 / zeta * (Y_1 - hat_y1)**2\n",
    "    W0 = (np.exp(exponent_values)) **2\n",
    "    W_t = expm(K * (T-t)).dot(W0)\n",
    "    return W_t"
   ]
  },
  {
   "cell_type": "code",
   "execution_count": null,
   "id": "b20d359c",
   "metadata": {
    "ExecuteTime": {
     "end_time": "2024-06-12T16:48:38.005215Z",
     "start_time": "2024-06-12T16:48:37.998897Z"
    }
   },
   "outputs": [],
   "source": [
    "# K matrix\n",
    "def k_matrix(N_1, lambda_a, lambda_b, phi1, kappa1, Y_1, hat_y1, delta_a_2, delta_b_2):\n",
    "    # The main diagonal values\n",
    "    main_diag = -2 * kappa1 * phi1 * (Y_1 - hat_y1)**2 / zeta\n",
    "\n",
    "    # Subdiagonal and superdiagonal values\n",
    "    sub_diag = lambda_a * np.exp(kappa1 * delta_a_2 - 1) * np.ones(N_1)  \n",
    "    super_diag = lambda_b * np.exp(kappa1 * delta_b_2 - 1) * np.ones(N_1)\n",
    "\n",
    "    # Create the tridiagonal sparse matrix\n",
    "    diagonals = [sub_diag, main_diag, super_diag]\n",
    "    K = diags(diagonals, offsets=[-1, 0, 1], shape=(N_1+1, N_1+1), format='csr')\n",
    "    \n",
    "    return K.todense()"
   ]
  },
  {
   "cell_type": "markdown",
   "id": "cce5c45d",
   "metadata": {},
   "source": [
    "## Parameters and initial assumptions"
   ]
  },
  {
   "cell_type": "code",
   "execution_count": null,
   "id": "1a8d65c9",
   "metadata": {
    "ExecuteTime": {
     "end_time": "2024-06-12T16:48:38.614790Z",
     "start_time": "2024-06-12T16:48:38.610988Z"
    }
   },
   "outputs": [],
   "source": [
    "# AMM default parameters (Table 6.2)\n",
    "zeta = 1 # Trading size [units of y]\n",
    "T = 30 # Trading window [seconds]\n",
    "lambda_a = 1 # Baseline sell order arrival intensity [order/second]\n",
    "lambda_b = 1 # Baseline buy order arrival intensity [order/second]"
   ]
  },
  {
   "cell_type": "code",
   "execution_count": null,
   "id": "3f15123f",
   "metadata": {
    "ExecuteTime": {
     "end_time": "2024-06-12T16:48:38.926984Z",
     "start_time": "2024-06-12T16:48:38.921128Z"
    }
   },
   "outputs": [],
   "source": [
    "# Liquidity providers default characteristics (Table 6.1)\n",
    "x0_1=1 # Initial x reserve for LP1\n",
    "y0_1=1 # Initial y reserve for LP1\n",
    "z0_1=x0_1/y0_1 # Initial marginal rate z for LP1\n",
    "m2_1=x0_1*y0_1 # Liquidity depth measure for LP1\n",
    "\n",
    "y_min_1 = -3 # Y lower reserve constraint for LP1\n",
    "y_max_1 = 3 # Y upper reserve constraint for LP1\n",
    "N_1=int((y_max_1-y_min_1)/zeta)\n",
    "Y_1 = np.linspace(y_max_1, y_min_1, N_1+1)\n",
    "Z_1 = m2_1 / (Y_1 ** 2 + 1e-10)  # Adding a small constant to avoid division by zero\n",
    "\n",
    "phi1 = 10**(-5) # Inventory penalty for LP1\n",
    "alpha1 = 0.001 # Terminal penalty for LP1\n",
    "kappa1= 10 # Rate of order pressure decay for LP1\n",
    "hat_y1 = 0 # Inventory objective for LP1\n",
    "\n",
    "# LP2 reserves and settings\n",
    "z_2=z0_1 # Initial marginal rate z for LP2\n",
    "delta_a_2=0.5 # Arbritrary constant sell depth for LP2\n",
    "delta_b_2=0.5 # Arbritrary constant buy depth for LP2"
   ]
  },
  {
   "cell_type": "markdown",
   "id": "a25204d2",
   "metadata": {
    "ExecuteTime": {
     "end_time": "2024-05-22T12:25:14.944004Z",
     "start_time": "2024-05-22T12:25:14.940835Z"
    }
   },
   "source": [
    "## Simulations"
   ]
  },
  {
   "cell_type": "code",
   "execution_count": null,
   "id": "ffbdddd7",
   "metadata": {
    "ExecuteTime": {
     "end_time": "2024-06-12T16:48:39.662576Z",
     "start_time": "2024-06-12T16:48:39.525828Z"
    }
   },
   "outputs": [],
   "source": [
    "time_steps = 100  # Number of time steps to evaluate\n",
    "t_grid = np.linspace(0, T, time_steps)\n",
    "y_test_range=[-3,-2,-1,1,2,3]\n",
    "# Storing results for each time point (x-coordinate) and y (y-coordinate)\n",
    "delta_b_star_1 = np.zeros((len(y_test_range),len(t_grid)))\n",
    "delta_a_star_1 = np.zeros((len(y_test_range),len(t_grid)))\n",
    "# Compute W(t) for each time point\n",
    "for i,y_test in enumerate(y_test_range):\n",
    "    for j, t in enumerate(t_grid):\n",
    "        x_test=y_test\n",
    "        z_test=x_test/y_test\n",
    "        m2_1=x_test*y_test;\n",
    "        z_2_test=z_test\n",
    "        S=z_test\n",
    "        \n",
    "        delta_b_star_1[i,j], delta_a_star_1[i,j] = optimal_controls(t,T,\n",
    "                     N_1,zeta,\n",
    "                     lambda_a,lambda_b,alpha1,phi1,kappa1,\n",
    "                     Y_1,hat_y1,m2_1,y_test,\n",
    "                     delta_a_2,delta_b_2)"
   ]
  },
  {
   "cell_type": "code",
   "execution_count": null,
   "id": "e05bb316",
   "metadata": {
    "ExecuteTime": {
     "end_time": "2024-06-12T16:48:39.933347Z",
     "start_time": "2024-06-12T16:48:39.820720Z"
    }
   },
   "outputs": [],
   "source": [
    "phi11 = np.linspace(10**(-2),10**(-5)) # No inventory penalty\n",
    "t=t_grid[76]\n",
    "# Storing results for each time point (x-coordinate) and y (y-coordinate)\n",
    "delta_b_star_2 = np.zeros((len(y_test_range),len(phi11)))\n",
    "delta_a_star_2 = np.zeros((len(y_test_range),len(phi11)))\n",
    "# Compute W(t) for each time point\n",
    "for i,y_test in enumerate(y_test_range):\n",
    "    for j, phi in enumerate(phi11):\n",
    "        x_test=y_test\n",
    "        z_test=x_test/y_test\n",
    "        m2_1=x_test*y_test;\n",
    "        z_2_test=z_test\n",
    "        S=z_test\n",
    "        \n",
    "        delta_b_star_2[i,j], delta_a_star_2[i,j] = optimal_controls(t,T,\n",
    "                     N_1,zeta,\n",
    "                     lambda_a,lambda_b,alpha1,phi,kappa1,\n",
    "                     Y_1,hat_y1,m2_1,y_test,\n",
    "                     delta_a_2,delta_b_2)"
   ]
  },
  {
   "cell_type": "code",
   "execution_count": null,
   "id": "c3774da7",
   "metadata": {
    "ExecuteTime": {
     "end_time": "2024-06-12T16:48:40.227646Z",
     "start_time": "2024-06-12T16:48:40.160963Z"
    }
   },
   "outputs": [],
   "source": [
    "alpha11 = np.linspace(10**(-1),10**(-3)) # No terminal penalty\n",
    "t=t_grid[-1]\n",
    "# Storing results for each time point (x-coordinate) and y (y-coordinate)\n",
    "delta_b_star_3 = np.zeros((len(y_test_range),len(alpha11)))\n",
    "delta_a_star_3 = np.zeros((len(y_test_range),len(alpha11)))\n",
    "# Compute W(t) for each time point\n",
    "for i,y_test in enumerate(y_test_range):\n",
    "    for j, alpha in enumerate(alpha11):\n",
    "        x_test=y_test\n",
    "        z_test=x_test/y_test\n",
    "        m2_1=x_test*y_test;\n",
    "        z_2_test=z_test\n",
    "        S=z_test\n",
    "        \n",
    "        delta_b_star_3[i,j], delta_a_star_3[i,j] = optimal_controls(t,T,\n",
    "                     N_1,zeta,\n",
    "                     lambda_a,lambda_b,alpha,phi1,kappa1,\n",
    "                     Y_1,hat_y1,m2_1,y_test,\n",
    "                     delta_a_2,delta_b_2)"
   ]
  },
  {
   "cell_type": "code",
   "execution_count": null,
   "id": "72affa8d",
   "metadata": {
    "ExecuteTime": {
     "end_time": "2024-06-12T16:48:40.613867Z",
     "start_time": "2024-06-12T16:48:40.498373Z"
    }
   },
   "outputs": [],
   "source": [
    "kappa11= np.linspace(1,30)\n",
    "t=t_grid[5]\n",
    "# Storing results for each time point (x-coordinate) and y (y-coordinate)\n",
    "delta_b_star_4 = np.zeros((len(y_test_range),len(kappa11)))\n",
    "delta_a_star_4 = np.zeros((len(y_test_range),len(kappa11)))\n",
    "# Compute W(t) for each time point\n",
    "for i,y_test in enumerate(y_test_range):\n",
    "    for j, kappa in enumerate(kappa11):\n",
    "        x_test=y_test\n",
    "        z_test=x_test/y_test\n",
    "        m2_1=x_test*y_test;\n",
    "        z_2_test=z_test\n",
    "        S=z_test\n",
    "        \n",
    "        delta_b_star_4[i,j], delta_a_star_4[i,j] = optimal_controls(t,T,\n",
    "                     N_1,zeta,\n",
    "                     lambda_a,lambda_b,alpha1,phi1,kappa,\n",
    "                     Y_1,hat_y1,m2_1,y_test,\n",
    "                     delta_a_2,delta_b_2)"
   ]
  },
  {
   "cell_type": "code",
   "execution_count": null,
   "id": "70992678",
   "metadata": {
    "ExecuteTime": {
     "end_time": "2024-06-12T16:48:41.661950Z",
     "start_time": "2024-06-12T16:48:40.839679Z"
    }
   },
   "outputs": [],
   "source": [
    "plt.figure(figsize=(14,6))\n",
    "\n",
    "\n",
    "plt.subplot(2,4,1)\n",
    "plt.plot(t_grid,delta_a_star_1[5,:],'b',label='y=3')\n",
    "plt.plot(t_grid,delta_a_star_1[4,:],'g',label='y=2')\n",
    "plt.plot(t_grid,delta_a_star_1[3,:],'r',label='y=1')\n",
    "plt.plot(t_grid,delta_a_star_1[2,:],'c',label='y=-1')\n",
    "plt.plot(t_grid,delta_a_star_1[1,:],'violet',label='y=-2')\n",
    "plt.plot(t_grid,delta_a_star_1[0,:],'y',label='y=-3')\n",
    "plt.ylabel('Sell depth $\\delta^{1,a}$')\n",
    "#plt.ylim(-1, 1)  # Set the limits of y-axis\n",
    "plt.grid(True, color='gray', linestyle='--', linewidth=0.5)\n",
    "#plt.yticks([0,0.005, 0.01, 0.015,0.02])  # Set specific y-axis ticks\n",
    "\n",
    "\n",
    "plt.subplot(2,4,5)\n",
    "plt.plot(t_grid,delta_b_star_1[5,:],'b',label='y=3')\n",
    "plt.plot(t_grid,delta_b_star_1[4,:],'g',label='y=2')\n",
    "plt.plot(t_grid,delta_b_star_1[3,:],'r',label='y=1')\n",
    "plt.plot(t_grid,delta_b_star_1[2,:],'c',label='y=-1')\n",
    "plt.plot(t_grid,delta_b_star_1[1,:],'violet',label='y=-2')\n",
    "plt.plot(t_grid,delta_b_star_1[0,:],'y',label='y=-3')\n",
    "plt.xlabel('Time (s)')\n",
    "plt.ylabel('Buy depth $\\delta^{1,b}$');\n",
    "#plt.ylim(-1, 1)  # Set the limits of y-axis\n",
    "plt.grid(True, color='gray', linestyle='--', linewidth=0.5)\n",
    "#plt.yticks([0,0.005, 0.01, 0.015,0.02]);  # Set specific y-axis ticks\n",
    "\n",
    "plt.subplot(2,4,2)\n",
    "plt.plot(phi11,delta_a_star_2[5,:],'b',label='y=3')\n",
    "plt.plot(phi11,delta_a_star_2[4,:],'g',label='y=2')\n",
    "plt.plot(phi11,delta_a_star_2[3,:],'r',label='y=1')\n",
    "plt.plot(phi11,delta_a_star_2[2,:],'c',label='y=-1')\n",
    "plt.plot(phi11,delta_a_star_2[1,:],'violet',label='y=-2')\n",
    "plt.plot(phi11,delta_a_star_2[0,:],'y',label='y=-3')\n",
    "#plt.ylim(-1, 1)  # Set the limits of y-axis\n",
    "plt.grid(True, color='gray', linestyle='--', linewidth=0.5)\n",
    "#plt.yticks([0,0.005, 0.01, 0.015,0.02])  # Set specific y-axis ticks\n",
    "\n",
    "\n",
    "plt.subplot(2,4,6)\n",
    "plt.plot(phi11,delta_b_star_2[5,:],'b',label='y=3')\n",
    "plt.plot(phi11,delta_b_star_2[4,:],'g',label='y=2')\n",
    "plt.plot(phi11,delta_b_star_2[3,:],'r',label='y=1')\n",
    "plt.plot(phi11,delta_b_star_2[2,:],'c',label='y=-1')\n",
    "plt.plot(phi11,delta_b_star_2[1,:],'violet',label='y=-2')\n",
    "plt.plot(phi11,delta_b_star_2[0,:],'y',label='y=-3')\n",
    "plt.xlabel('$\\\\phi^1$')\n",
    "#plt.ylim(-1, 1)  # Set the limits of y-axis\n",
    "plt.grid(True, color='gray', linestyle='--', linewidth=0.5)\n",
    "#plt.yticks([0,0.005, 0.01, 0.015,0.02]);  # Set specific y-axis ticks\n",
    "\n",
    "plt.subplot(2,4,3)\n",
    "plt.plot(alpha11,delta_a_star_3[5,:],'b',label='y=3')\n",
    "plt.plot(alpha11,delta_a_star_3[4,:],'g',label='y=2')\n",
    "plt.plot(alpha11,delta_a_star_3[3,:],'r',label='y=1')\n",
    "plt.plot(alpha11,delta_a_star_3[2,:],'c',label='y=-1')\n",
    "plt.plot(alpha11,delta_a_star_3[1,:],'violet',label='y=-2')\n",
    "plt.plot(alpha11,delta_a_star_3[0,:],'y',label='y=-3')\n",
    "#plt.ylim(-1, 1)  # Set the limits of y-axis\n",
    "plt.grid(True, color='gray', linestyle='--', linewidth=0.5)\n",
    "#plt.yticks([0,0.005, 0.01, 0.015,0.02])  # Set specific y-axis ticks\n",
    "\n",
    "\n",
    "plt.subplot(2,4,7)\n",
    "plt.plot(alpha11,delta_b_star_3[5,:],'b',label='y=3')\n",
    "plt.plot(alpha11,delta_b_star_3[4,:],'g',label='y=2')\n",
    "plt.plot(alpha11,delta_b_star_3[3,:],'r',label='y=1')\n",
    "plt.plot(alpha11,delta_b_star_3[2,:],'c',label='y=-1')\n",
    "plt.plot(alpha11,delta_b_star_3[1,:],'violet',label='y=-2')\n",
    "plt.plot(alpha11,delta_b_star_3[0,:],'y',label='y=-3')\n",
    "plt.xlabel('$\\\\alpha^1$')\n",
    "#plt.ylim(-1, 1)  # Set the limits of y-axis\n",
    "plt.grid(True, color='gray', linestyle='--', linewidth=0.5)\n",
    "#plt.yticks([0,0.005, 0.01, 0.015,0.02]);  # Set specific y-axis ticks\n",
    "\n",
    "plt.subplot(2,4,4)\n",
    "plt.plot(kappa11,delta_a_star_4[5,:],'b',label='y=3')\n",
    "plt.plot(kappa11,delta_a_star_4[4,:],'g',label='y=2')\n",
    "plt.plot(kappa11,delta_a_star_4[3,:],'r',label='y=1')\n",
    "plt.plot(kappa11,delta_a_star_4[2,:],'c',label='y=-1')\n",
    "plt.plot(kappa11,delta_a_star_4[1,:],'violet',label='y=-2')\n",
    "plt.plot(kappa11,delta_a_star_4[0,:],'y',label='y=-3')\n",
    "plt.legend(loc='center right')\n",
    "#plt.ylim(-1, 1)  # Set the limits of y-axis\n",
    "plt.grid(True, color='gray', linestyle='--', linewidth=0.5)\n",
    "#plt.yticks([0,0.005, 0.01, 0.015,0.02])  # Set specific y-axis ticks\n",
    "\n",
    "\n",
    "plt.subplot(2,4,8)\n",
    "plt.plot(kappa11,delta_b_star_4[5,:],'b',label='y=3')\n",
    "plt.plot(kappa11,delta_b_star_4[4,:],'g',label='y=2')\n",
    "plt.plot(kappa11,delta_b_star_4[3,:],'r',label='y=1')\n",
    "plt.plot(kappa11,delta_b_star_4[2,:],'c',label='y=-1')\n",
    "plt.plot(kappa11,delta_b_star_4[1,:],'violet',label='y=-2')\n",
    "plt.plot(kappa11,delta_b_star_4[0,:],'y',label='y=-3')\n",
    "plt.legend(loc='center right')\n",
    "plt.xlabel('$\\\\kappa^1$')\n",
    "#plt.ylim(-1, 1)  # Set the limits of y-axis\n",
    "plt.grid(True, color='gray', linestyle='--', linewidth=0.5)\n",
    "#plt.yticks([0,0.005, 0.01, 0.015,0.02]);  # Set specific y-axis ticks\n",
    "\n",
    "# If you need to set ticks in Times New Roman, ensure this by setting tick labels explicitly if needed\n",
    "# Example to set x-ticks (similarly for y-ticks):\n",
    "plt.xticks(fontname='Times New Roman')\n",
    "plt.yticks(fontname='Times New Roman')\n",
    "plt.savefig('General analysis Model 1.b.png', format='png', dpi=300, bbox_inches='tight')"
   ]
  }
 ],
 "metadata": {
  "kernelspec": {
   "display_name": "Python 3 (ipykernel)",
   "language": "python",
   "name": "python3"
  },
  "language_info": {
   "codemirror_mode": {
    "name": "ipython",
    "version": 3
   },
   "file_extension": ".py",
   "mimetype": "text/x-python",
   "name": "python",
   "nbconvert_exporter": "python",
   "pygments_lexer": "ipython3",
   "version": "3.10.8"
  },
  "toc": {
   "base_numbering": 1,
   "nav_menu": {},
   "number_sections": true,
   "sideBar": true,
   "skip_h1_title": false,
   "title_cell": "Table of Contents",
   "title_sidebar": "Contents",
   "toc_cell": false,
   "toc_position": {},
   "toc_section_display": true,
   "toc_window_display": false
  },
  "varInspector": {
   "cols": {
    "lenName": 16,
    "lenType": 16,
    "lenVar": 40
   },
   "kernels_config": {
    "python": {
     "delete_cmd_postfix": "",
     "delete_cmd_prefix": "del ",
     "library": "var_list.py",
     "varRefreshCmd": "print(var_dic_list())"
    },
    "r": {
     "delete_cmd_postfix": ") ",
     "delete_cmd_prefix": "rm(",
     "library": "var_list.r",
     "varRefreshCmd": "cat(var_dic_list()) "
    }
   },
   "types_to_exclude": [
    "module",
    "function",
    "builtin_function_or_method",
    "instance",
    "_Feature"
   ],
   "window_display": false
  }
 },
 "nbformat": 4,
 "nbformat_minor": 5
}
